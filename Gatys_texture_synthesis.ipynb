{
  "nbformat": 4,
  "nbformat_minor": 0,
  "metadata": {
    "colab": {
      "name": "Gatys_texture_synthesis.ipynb",
      "provenance": [],
      "authorship_tag": "ABX9TyM6ZCBohH5w9JSOWKjVXGOg",
      "include_colab_link": true
    },
    "kernelspec": {
      "name": "python3",
      "display_name": "Python 3"
    }
  },
  "cells": [
    {
      "cell_type": "markdown",
      "metadata": {
        "id": "view-in-github",
        "colab_type": "text"
      },
      "source": [
        "<a href=\"https://colab.research.google.com/github/bgalerne/mva_stochastic_models/blob/master/Gatys_texture_synthesis.ipynb\" target=\"_parent\"><img src=\"https://colab.research.google.com/assets/colab-badge.svg\" alt=\"Open In Colab\"/></a>"
      ]
    },
    {
      "cell_type": "code",
      "metadata": {
        "id": "KsmsJQTTLet_",
        "colab_type": "code",
        "colab": {}
      },
      "source": [
        ""
      ],
      "execution_count": 0,
      "outputs": []
    },
    {
      "cell_type": "markdown",
      "metadata": {
        "id": "-dDSmyxtLxLk",
        "colab_type": "text"
      },
      "source": [
        "This practical session is based on\n",
        "**[Texture Synthesis Using Convolutional Neural Networks](https://papers.nips.cc/paper/5633-texture-synthesis-using-convolutional-neural-networks)**\n",
        "by Leon Gatys, Alexander S. Ecker, and Matthias Bethge, NIPS 2015\n",
        "\n",
        "Most of the code is from L. Gatys' repo\n",
        "https://github.com/leongatys/PytorchNeuralStyleTransfer\n",
        "\n"
      ]
    },
    {
      "cell_type": "code",
      "metadata": {
        "id": "URrdAlxELyA3",
        "colab_type": "code",
        "colab": {}
      },
      "source": [
        ""
      ],
      "execution_count": 0,
      "outputs": []
    },
    {
      "cell_type": "markdown",
      "metadata": {
        "id": "zOMIhpAdLyd5",
        "colab_type": "text"
      },
      "source": [
        ""
      ]
    }
  ]
}